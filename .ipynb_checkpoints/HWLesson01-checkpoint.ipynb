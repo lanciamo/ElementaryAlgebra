{
 "cells": [
  {
   "cell_type": "markdown",
   "metadata": {},
   "source": [
    "Задания к видеоуроку “Элементарная алгебра”\n",
    "Присылайте фото листочков с вашими решениями или просто ответы в текстовом файле .doc или .txt (1-3 задание).\n",
    "\n",
    "\n",
    "Прикладывайте ссылку на ваш репозиторий с кодом (4 задание). Для написания кода используйте привычную среду программирования, желательно, Jupiter Notebook"
   ]
  },
  {
   "cell_type": "markdown",
   "metadata": {},
   "source": [
    "#### 1. Задание (на листочке)\n",
    " Вычислите:"
   ]
  },
  {
   "cell_type": "code",
   "execution_count": 3,
   "metadata": {},
   "outputs": [],
   "source": [
    "import numpy as np"
   ]
  },
  {
   "cell_type": "code",
   "execution_count": 6,
   "metadata": {},
   "outputs": [
    {
     "data": {
      "text/plain": [
       "array([[ 45. ,  90. ],\n",
       "       [ 63. , 108. ],\n",
       "       [101.7,  45. ],\n",
       "       [225. , 270. ]])"
      ]
     },
     "execution_count": 6,
     "metadata": {},
     "output_type": "execute_result"
    }
   ],
   "source": [
    "a = np.array([[5, 10], [7, 12], [11.3, 5], [25, 30]])\n",
    "# 7*a + 2*a = 9*ф\n",
    "a*9"
   ]
  },
  {
   "cell_type": "markdown",
   "metadata": {},
   "source": [
    "#### 2.1. Задание (на листочке) -  Решите систему уравнений:\n",
    "3x – 2y + 5z = 7\n",
    "\n",
    "7x + 4y – 8z = 3\n",
    "\n",
    "5x – 3y – 4z = –12\n",
    "\n",
    "Линейная или нелинейная это система? \n",
    "А каждое уравнение по отдельности?"
   ]
  },
  {
   "cell_type": "code",
   "execution_count": null,
   "metadata": {},
   "outputs": [],
   "source": [
    "# складываем все три, выводим y: 15x - 7z + 2 = y; подставляем в первое и выводим z:\n",
    "# 3x - 30x + 14z -4 + 5z = 19z - 27x = 11; 11/19 + 27/19x = z; подставляем в y:\n",
    "# 15x - 77/19 - 189/19x + 2 = 96/19x - 39/19 = y; подставляем y, z во второе\n",
    "# 7x + 384/19x - 156/19 - 88/19 - 216/19x = 3;\n",
    "# 301/19x - 244/19 = 3;\n",
    "# x = (57/19 + 244/19) / 301/19 = 1;\n",
    "# z = 2;\n",
    "# y = 3 //\n",
    "# Линейные и уравнение и система"
   ]
  },
  {
   "cell_type": "markdown",
   "metadata": {},
   "source": [
    "#### 2.2. Задание (на листочке) - Решите систему уравнений:\n",
    "x2 + y∙x – 9 = 0\n",
    "x – y/5 = 0\n",
    "Линейная или нелинейная это система? \n",
    "А каждое уравнение по отдельности?"
   ]
  },
  {
   "cell_type": "code",
   "execution_count": 13,
   "metadata": {},
   "outputs": [
    {
     "data": {
      "text/plain": [
       "1.3416407864998738"
      ]
     },
     "execution_count": 13,
     "metadata": {},
     "output_type": "execute_result"
    }
   ],
   "source": [
    "# y = 5x\n",
    "# xˆ2 + 5xˆ2 - 9 = 5xˆ2 - 9 = 0;квадратное уравнение\n",
    "# D = 0**2 - 4*5*(-9)\n",
    "# D = 180; корни есть,\n",
    "# x1 = (180**0.5)/(2*5)\n",
    "# x(1и2) = (-+)1.34...\n",
    "# соответственно y(1и2) = (-+)6.71...\n",
    "№уравнения первое нелинейное, второе линейное, соответственно система не линейная\n"
   ]
  },
  {
   "cell_type": "markdown",
   "metadata": {},
   "source": [
    "#### 3. Задание (на листочке) - Решите задачу:\n",
    "Площадь пола прямоугольной комнаты равна 48 м2,а его периметр равен 28 м. Найдите длину и ширину комнаты."
   ]
  },
  {
   "cell_type": "code",
   "execution_count": 21,
   "metadata": {},
   "outputs": [
    {
     "data": {
      "text/plain": [
       "8.0"
      ]
     },
     "execution_count": 21,
     "metadata": {},
     "output_type": "execute_result"
    }
   ],
   "source": [
    "# x * y = 48\n",
    "# 2(x+y) = 28; выражаем из первого y = 48/x, подставляем\n",
    "# 2x + 96/x = 28; 2xˆ2 - 28x + 96 = 0;\n",
    "# D = 28**2 - 4*2*96 = 16\n",
    "# x1 = (28 + (16**0.5))/(2*2) = 8\n",
    "# x2 = (28 - (16**0.5))/(2*2) = 6\n",
    "# y1 соответсвенно либо 6, либо 8"
   ]
  },
  {
   "cell_type": "markdown",
   "metadata": {},
   "source": [
    "#### 4. Задание (в программе):\n",
    "Постройте на одном графике две кривые y(x) для функции двух переменной y(k,x)=cos(k∙x), взяв для одной кривой значение k=1, а для другой – любое другое k, не равное 1."
   ]
  },
  {
   "cell_type": "code",
   "execution_count": 22,
   "metadata": {},
   "outputs": [],
   "source": [
    "%matplotlib inline\n",
    "import numpy as np\n",
    "import matplotlib.pyplot as plt"
   ]
  },
  {
   "cell_type": "code",
   "execution_count": 37,
   "metadata": {},
   "outputs": [
    {
     "data": {
      "image/png": "[encoded data removed]",
      "text/plain": [
       "<Figure size 432x288 with 1 Axes>"
      ]
     },
     "metadata": {
      "needs_background": "light"
     },
     "output_type": "display_data"
    }
   ],
   "source": [
    "x = np.linspace(0, 10, 121)\n",
    "\n",
    "y1 = np.cos(x*1)\n",
    "y2 = np.cos(x*1.2)\n",
    "\n",
    "plt.plot(x, y1)\n",
    "plt.plot(x, y2)\n",
    "\n",
    "plt.show()"
   ]
  },
  {
   "cell_type": "markdown",
   "metadata": {},
   "source": []
  }
 ],
 "metadata": {
  "kernelspec": {
   "display_name": "Python 3",
   "language": "python",
   "name": "python3"
  },
  "language_info": {
   "codemirror_mode": {
    "name": "ipython",
    "version": 3
   },
   "file_extension": ".py",
   "mimetype": "text/x-python",
   "name": "python",
   "nbconvert_exporter": "python",
   "pygments_lexer": "ipython3",
   "version": "3.7.4"
  }
 },
 "nbformat": 4,
 "nbformat_minor": 2
}
