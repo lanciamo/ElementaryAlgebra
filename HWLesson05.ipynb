{
 "cells": [
  {
   "cell_type": "markdown",
   "metadata": {},
   "source": [
    "#### Задания к уроку 4\n",
    "\n",
    "\n",
    "##### 1.\n",
    "Напишите код, моделирующий выпадение поля в рулетке (с учетом поля зеро)."
   ]
  },
  {
   "cell_type": "code",
   "execution_count": 50,
   "metadata": {},
   "outputs": [],
   "source": [
    "%matplotlib inline\n",
    "import numpy as np\n",
    "import pandas as pd\n",
    "\n",
    "import matplotlib.pyplot as plt\n",
    "import matplotlib.mlab as mlab"
   ]
  },
  {
   "cell_type": "code",
   "execution_count": 5,
   "metadata": {
    "scrolled": true
   },
   "outputs": [
    {
     "name": "stdout",
     "output_type": "stream",
     "text": [
      "\n",
      "Выпало 4\n",
      "\n",
      "Выпало 19\n",
      "\n",
      "Выпало 16\n",
      "\n",
      "Выпало 32\n",
      "\n",
      "ZERO!\n"
     ]
    }
   ],
   "source": [
    "for i in range(0, 5):\n",
    "    a = input()\n",
    "    x = int(np.random.uniform(0, 37))\n",
    "    if x == 0:\n",
    "        print('ZERO!')\n",
    "    else:\n",
    "        print(f'Выпало {x}')\n"
   ]
  },
  {
   "cell_type": "markdown",
   "metadata": {},
   "source": [
    "##### 2.1\n",
    "\n",
    "Напишите код, проверяющий любую из теорем сложения или умножения вероятности на примере рулетки или подбрасывания монетки."
   ]
  },
  {
   "cell_type": "code",
   "execution_count": 141,
   "metadata": {},
   "outputs": [
    {
     "name": "stdout",
     "output_type": "stream",
     "text": [
      "Всего было 9999 попыток, из них 274 совпадений. Отношение равно 0.027402740274027403.\n",
      "Вероятность по формуле умножения равна 0.02629656683710738.\n"
     ]
    }
   ],
   "source": [
    "a = 10000\n",
    "count = 0\n",
    "for i in range(0, a):\n",
    "    x = int(np.random.uniform(0, 37))\n",
    "    y = int(np.random.uniform(0, 37))\n",
    "    if x == y:\n",
    "        #print(f'MATCH!{x, y}')\n",
    "        count += 1\n",
    "\n",
    "print(f'Всего было {i} попыток, из них {count} совпадений. Отношение равно {count/i}.\\n'\n",
    "      +f'Вероятность по формуле умножения равна {(1/37)*(36/37)}.')\n",
    "\n"
   ]
  },
  {
   "cell_type": "markdown",
   "metadata": {},
   "source": [
    "##### 2.2\n",
    "Сгенерируйте десять выборок случайных чисел х0, …, х9.\n",
    "и постройте гистограмму распределения случайной суммы х0+х1+ …+ х9."
   ]
  },
  {
   "cell_type": "code",
   "execution_count": 150,
   "metadata": {},
   "outputs": [
    {
     "data": {
      "text/html": [
       "<div>\n",
       "<style scoped>\n",
       "    .dataframe tbody tr th:only-of-type {\n",
       "        vertical-align: middle;\n",
       "    }\n",
       "\n",
       "    .dataframe tbody tr th {\n",
       "        vertical-align: top;\n",
       "    }\n",
       "\n",
       "    .dataframe thead th {\n",
       "        text-align: right;\n",
       "    }\n",
       "</style>\n",
       "<table border=\"1\" class=\"dataframe\">\n",
       "  <thead>\n",
       "    <tr style=\"text-align: right;\">\n",
       "      <th></th>\n",
       "      <th>0</th>\n",
       "      <th>1</th>\n",
       "      <th>2</th>\n",
       "      <th>3</th>\n",
       "      <th>4</th>\n",
       "      <th>5</th>\n",
       "      <th>6</th>\n",
       "      <th>7</th>\n",
       "      <th>8</th>\n",
       "      <th>9</th>\n",
       "      <th>sum</th>\n",
       "    </tr>\n",
       "  </thead>\n",
       "  <tbody>\n",
       "    <tr>\n",
       "      <td>0</td>\n",
       "      <td>1.0</td>\n",
       "      <td>0.0</td>\n",
       "      <td>0.0</td>\n",
       "      <td>1.0</td>\n",
       "      <td>0.0</td>\n",
       "      <td>0.0</td>\n",
       "      <td>0.0</td>\n",
       "      <td>0.0</td>\n",
       "      <td>1.0</td>\n",
       "      <td>1.0</td>\n",
       "      <td>4.0</td>\n",
       "    </tr>\n",
       "    <tr>\n",
       "      <td>1</td>\n",
       "      <td>0.0</td>\n",
       "      <td>0.0</td>\n",
       "      <td>1.0</td>\n",
       "      <td>1.0</td>\n",
       "      <td>0.0</td>\n",
       "      <td>0.0</td>\n",
       "      <td>0.0</td>\n",
       "      <td>1.0</td>\n",
       "      <td>1.0</td>\n",
       "      <td>1.0</td>\n",
       "      <td>5.0</td>\n",
       "    </tr>\n",
       "    <tr>\n",
       "      <td>2</td>\n",
       "      <td>0.0</td>\n",
       "      <td>1.0</td>\n",
       "      <td>1.0</td>\n",
       "      <td>1.0</td>\n",
       "      <td>0.0</td>\n",
       "      <td>1.0</td>\n",
       "      <td>0.0</td>\n",
       "      <td>1.0</td>\n",
       "      <td>0.0</td>\n",
       "      <td>0.0</td>\n",
       "      <td>5.0</td>\n",
       "    </tr>\n",
       "    <tr>\n",
       "      <td>3</td>\n",
       "      <td>0.0</td>\n",
       "      <td>0.0</td>\n",
       "      <td>1.0</td>\n",
       "      <td>1.0</td>\n",
       "      <td>1.0</td>\n",
       "      <td>0.0</td>\n",
       "      <td>1.0</td>\n",
       "      <td>1.0</td>\n",
       "      <td>0.0</td>\n",
       "      <td>0.0</td>\n",
       "      <td>5.0</td>\n",
       "    </tr>\n",
       "    <tr>\n",
       "      <td>4</td>\n",
       "      <td>0.0</td>\n",
       "      <td>1.0</td>\n",
       "      <td>0.0</td>\n",
       "      <td>0.0</td>\n",
       "      <td>0.0</td>\n",
       "      <td>0.0</td>\n",
       "      <td>1.0</td>\n",
       "      <td>1.0</td>\n",
       "      <td>0.0</td>\n",
       "      <td>1.0</td>\n",
       "      <td>4.0</td>\n",
       "    </tr>\n",
       "    <tr>\n",
       "      <td>5</td>\n",
       "      <td>0.0</td>\n",
       "      <td>0.0</td>\n",
       "      <td>0.0</td>\n",
       "      <td>1.0</td>\n",
       "      <td>0.0</td>\n",
       "      <td>0.0</td>\n",
       "      <td>1.0</td>\n",
       "      <td>1.0</td>\n",
       "      <td>0.0</td>\n",
       "      <td>1.0</td>\n",
       "      <td>4.0</td>\n",
       "    </tr>\n",
       "    <tr>\n",
       "      <td>6</td>\n",
       "      <td>0.0</td>\n",
       "      <td>1.0</td>\n",
       "      <td>1.0</td>\n",
       "      <td>0.0</td>\n",
       "      <td>1.0</td>\n",
       "      <td>0.0</td>\n",
       "      <td>1.0</td>\n",
       "      <td>1.0</td>\n",
       "      <td>0.0</td>\n",
       "      <td>0.0</td>\n",
       "      <td>5.0</td>\n",
       "    </tr>\n",
       "    <tr>\n",
       "      <td>7</td>\n",
       "      <td>0.0</td>\n",
       "      <td>1.0</td>\n",
       "      <td>0.0</td>\n",
       "      <td>0.0</td>\n",
       "      <td>1.0</td>\n",
       "      <td>1.0</td>\n",
       "      <td>0.0</td>\n",
       "      <td>1.0</td>\n",
       "      <td>1.0</td>\n",
       "      <td>0.0</td>\n",
       "      <td>5.0</td>\n",
       "    </tr>\n",
       "    <tr>\n",
       "      <td>8</td>\n",
       "      <td>1.0</td>\n",
       "      <td>1.0</td>\n",
       "      <td>0.0</td>\n",
       "      <td>1.0</td>\n",
       "      <td>0.0</td>\n",
       "      <td>0.0</td>\n",
       "      <td>0.0</td>\n",
       "      <td>1.0</td>\n",
       "      <td>1.0</td>\n",
       "      <td>1.0</td>\n",
       "      <td>6.0</td>\n",
       "    </tr>\n",
       "    <tr>\n",
       "      <td>9</td>\n",
       "      <td>0.0</td>\n",
       "      <td>1.0</td>\n",
       "      <td>0.0</td>\n",
       "      <td>1.0</td>\n",
       "      <td>1.0</td>\n",
       "      <td>1.0</td>\n",
       "      <td>1.0</td>\n",
       "      <td>1.0</td>\n",
       "      <td>1.0</td>\n",
       "      <td>1.0</td>\n",
       "      <td>8.0</td>\n",
       "    </tr>\n",
       "  </tbody>\n",
       "</table>\n",
       "</div>"
      ],
      "text/plain": [
       "     0    1    2    3    4    5    6    7    8    9  sum\n",
       "0  1.0  0.0  0.0  1.0  0.0  0.0  0.0  0.0  1.0  1.0  4.0\n",
       "1  0.0  0.0  1.0  1.0  0.0  0.0  0.0  1.0  1.0  1.0  5.0\n",
       "2  0.0  1.0  1.0  1.0  0.0  1.0  0.0  1.0  0.0  0.0  5.0\n",
       "3  0.0  0.0  1.0  1.0  1.0  0.0  1.0  1.0  0.0  0.0  5.0\n",
       "4  0.0  1.0  0.0  0.0  0.0  0.0  1.0  1.0  0.0  1.0  4.0\n",
       "5  0.0  0.0  0.0  1.0  0.0  0.0  1.0  1.0  0.0  1.0  4.0\n",
       "6  0.0  1.0  1.0  0.0  1.0  0.0  1.0  1.0  0.0  0.0  5.0\n",
       "7  0.0  1.0  0.0  0.0  1.0  1.0  0.0  1.0  1.0  0.0  5.0\n",
       "8  1.0  1.0  0.0  1.0  0.0  0.0  0.0  1.0  1.0  1.0  6.0\n",
       "9  0.0  1.0  0.0  1.0  1.0  1.0  1.0  1.0  1.0  1.0  8.0"
      ]
     },
     "execution_count": 150,
     "metadata": {},
     "output_type": "execute_result"
    }
   ],
   "source": [
    "df = pd.DataFrame(columns=['0', '1', '2', '3', '4', '5', '6', '7', '8', '9'])\n",
    "for i in range(10):\n",
    "    df.loc[i] = list(np.round(np.random.rand(10)))\n",
    "\n",
    "col_list= list(df)\n",
    "\n",
    "df['sum'] = df[col_list].sum(axis=1)\n",
    "df"
   ]
  },
  {
   "cell_type": "code",
   "execution_count": 151,
   "metadata": {},
   "outputs": [
    {
     "data": {
      "image/png": "[encoded data removed]",
      "text/plain": [
       "<Figure size 432x288 with 1 Axes>"
      ]
     },
     "metadata": {
      "needs_background": "light"
     },
     "output_type": "display_data"
    }
   ],
   "source": [
    "num_bins = 20\n",
    "n, bins, patches = plt.hist(df['sum'], num_bins)\n"
   ]
  },
  {
   "cell_type": "markdown",
   "metadata": {},
   "source": [
    "##### 3.1\n",
    "Дополните код Монте-Карло последовательности независимых испытаний расчетом соответствующих вероятностей (через биномиальное распределение) \n",
    "и сравните результаты."
   ]
  },
  {
   "cell_type": "code",
   "execution_count": 152,
   "metadata": {},
   "outputs": [
    {
     "name": "stdout",
     "output_type": "stream",
     "text": [
      "Вероятность выпадения двух одинаковых чисел 25 раз из 1000 раз по формуле Бернулли 0.07433663753597962\n",
      "Всего было 999 попыток, из них 23 совпадений. Отношение равно 0.023023023023023025.\n",
      "Вероятность по формуле умножения вероятностей равна 0.02629656683710738.\n"
     ]
    }
   ],
   "source": [
    "# опять рулетка\n",
    "a = 1000\n",
    "count = 0\n",
    "k = int(0.025*a)\n",
    "p = (1/37)\n",
    "#рассчитаем вероятность количесва успехов из первого задания по формуле Бернулли:\n",
    "pk = np.math.factorial(a)/(np.math.factorial(k)*np.math.factorial(a - k))*(p**k)*(1-p)**(a-k)\n",
    "print(f'Вероятность выпадения двух одинаковых чисел {k} раз из {a} раз по формуле Бернулли {pk}')\n",
    "for i in range(a):\n",
    "    x = np.round(np.random.uniform(0, 37))\n",
    "    y = np.round(np.random.uniform(0, 37))\n",
    "    if x == y:\n",
    "        #print(f'MATCH!{x, y}')\n",
    "        count += 1\n",
    "\n",
    "print(f'Всего было {i} попыток, из них {count} совпадений. Отношение равно {count/i}.\\n'\n",
    "      +f'Вероятность по формуле умножения вероятностей равна {(1/37)*(36/37)}.')"
   ]
  },
  {
   "cell_type": "markdown",
   "metadata": {},
   "source": [
    "##### 3.2\n",
    "Повторите расчеты биномиальных коэффициентов и вероятностей k успехов в последовательности из n независимых испытаний, взяв другие значения n и k."
   ]
  },
  {
   "cell_type": "code",
   "execution_count": 160,
   "metadata": {},
   "outputs": [
    {
     "name": "stdout",
     "output_type": "stream",
     "text": [
      "Вероятность выпадения двух одинаковых чисел 20 раз из 100 раз по формуле Бернулли 0.06786199515844853\n",
      "Всего было 100 попыток, из них 17 совпадений. Отношение равно 0.17.\n",
      "Вероятность по формуле умножения равна 0.1388888888888889.\n",
      "\n"
     ]
    }
   ],
   "source": [
    "#бросаем кости\n",
    "a = 100\n",
    "count = 0\n",
    "k = int(0.2*a)\n",
    "p = (1/6)\n",
    "#рассчитаем вероятность количесва успехов из первого задания по формуле Бернулли:\n",
    "pk = (np.math.factorial(a)/(np.math.factorial(k)*np.math.factorial(a - k)))*(p**k)*((1-p)**(a-k))\n",
    "print(f'Вероятность выпадения двух одинаковых чисел {k} раз из {a} раз по формуле Бернулли {pk}')\n",
    "for i in range(a+1):\n",
    "    x = int(np.random.uniform(1, 7))\n",
    "    y = int(np.random.uniform(1, 7))\n",
    "    if x == y:\n",
    "        #print(f'MATCH!{x, y}')\n",
    "        count += 1\n",
    "\n",
    "print(f'Всего было {i} попыток, из них {count} совпадений. Отношение равно {count/i}.\\n'\n",
    "      +f'Вероятность по формуле умножения равна {(1/6)*(5/6)}.\\n')"
   ]
  },
  {
   "cell_type": "markdown",
   "metadata": {},
   "source": [
    "##### 4.\n",
    "Из урока по комбинаторике повторите расчеты, сгенерировав возможные варианты перестановок для других значений n и k"
   ]
  },
  {
   "cell_type": "code",
   "execution_count": 161,
   "metadata": {},
   "outputs": [],
   "source": [
    "import itertools"
   ]
  },
  {
   "cell_type": "code",
   "execution_count": 173,
   "metadata": {},
   "outputs": [],
   "source": [
    "?itertools"
   ]
  },
  {
   "cell_type": "code",
   "execution_count": 179,
   "metadata": {},
   "outputs": [
    {
     "name": "stdout",
     "output_type": "stream",
     "text": [
      "24\n"
     ]
    }
   ],
   "source": [
    "count = 0\n",
    "for p in itertools.permutations('0123', 4):\n",
    "    #print(''.join(p), p)\n",
    "    count += 1\n",
    "    \n",
    "print(count)"
   ]
  },
  {
   "cell_type": "code",
   "execution_count": 180,
   "metadata": {},
   "outputs": [
    {
     "name": "stdout",
     "output_type": "stream",
     "text": [
      "1\n"
     ]
    }
   ],
   "source": [
    "count = 0\n",
    "for p in itertools.combinations('0123', 4):\n",
    "    #print(''.join(p), p)\n",
    "    count += 1\n",
    "    \n",
    "print(count)"
   ]
  },
  {
   "cell_type": "code",
   "execution_count": 187,
   "metadata": {},
   "outputs": [
    {
     "name": "stdout",
     "output_type": "stream",
     "text": [
      "256\n"
     ]
    }
   ],
   "source": [
    "count = 0\n",
    "for p in itertools.product('01', repeat=8):\n",
    "    #print(''.join(p), p)\n",
    "    count += 1\n",
    "    \n",
    "print(count)"
   ]
  },
  {
   "cell_type": "markdown",
   "metadata": {},
   "source": [
    "##### 5.\n",
    "Дополните код расчетом коэффициента корреляции x и y по формуле"
   ]
  },
  {
   "cell_type": "code",
   "execution_count": 215,
   "metadata": {},
   "outputs": [
    {
     "name": "stdout",
     "output_type": "stream",
     "text": [
      "[[1.         0.99239348]\n",
      " [0.99239348 1.        ]] 0.9923934805082142\n"
     ]
    },
    {
     "name": "stderr",
     "output_type": "stream",
     "text": [
      "/opt/anaconda3/lib/python3.7/site-packages/ipykernel_launcher.py:16: FutureWarning: `rcond` parameter will change to the default of machine precision times ``max(M, N)`` where M and N are the input matrix dimensions.\n",
      "To use the future default and silence this warning we advise to pass `rcond=None`, to keep using the old, explicitly pass `rcond=-1`.\n",
      "  app.launch_new_instance()\n"
     ]
    },
    {
     "data": {
      "image/png": "[encoded data removed]",
      "text/plain": [
       "<Figure size 432x288 with 1 Axes>"
      ]
     },
     "metadata": {
      "needs_background": "light"
     },
     "output_type": "display_data"
    }
   ],
   "source": [
    "n = 100\n",
    "r = 0.9\n",
    "x = np.random.rand(n)\n",
    "y = r*x + (1-r)*np.random.rand(n)\n",
    "plt.plot(x, y, 'o')\n",
    "plt.grid(True)\n",
    "\n",
    "c = np.corrcoef(x, y)\n",
    "R = np.sum((x - np.average(x))*(y - np.average(y)))/np.sqrt(np.sum((x - np.average(x))**2)*np.sum((y - np.average(y))**2))\n",
    "print(c, R)\n",
    "\n",
    "a = (np.sum(x)*np.sum(y) - n*np.sum(x*y))/(np.sum(x)**2 - n*np.sum(x**2))\n",
    "b = (np.sum(y) - a*np.sum(x))/n\n",
    "\n",
    "A = np.vstack([x, np.ones(len(x))]).T\n",
    "a1, b1 = np.linalg.lstsq(A, y)[0]\n",
    "\n",
    "plt.plot([0, 1], [b, a + b])\n",
    "\n",
    "plt.show()"
   ]
  }
 ],
 "metadata": {
  "kernelspec": {
   "display_name": "Python 3",
   "language": "python",
   "name": "python3"
  },
  "language_info": {
   "codemirror_mode": {
    "name": "ipython",
    "version": 3
   },
   "file_extension": ".py",
   "mimetype": "text/x-python",
   "name": "python",
   "nbconvert_exporter": "python",
   "pygments_lexer": "ipython3",
   "version": "3.7.4"
  }
 },
 "nbformat": 4,
 "nbformat_minor": 2
}
